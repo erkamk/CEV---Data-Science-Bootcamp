{
  "nbformat": 4,
  "nbformat_minor": 0,
  "metadata": {
    "colab": {
      "provenance": []
    },
    "kernelspec": {
      "name": "python3",
      "display_name": "Python 3"
    },
    "language_info": {
      "name": "python"
    },
    "accelerator": "GPU",
    "gpuClass": "standard"
  },
  "cells": [
    {
      "cell_type": "code",
      "execution_count": 3,
      "metadata": {
        "id": "FTY-l0PPqrpT"
      },
      "outputs": [],
      "source": [
        "from keras.utils.np_utils import to_categorical\n",
        "from keras.models import Sequential\n",
        "from keras.layers import Dense,Dropout,Flatten,Conv2D,MaxPooling2D,Activation\n",
        "from keras.optimizers import RMSprop\n",
        "from keras.preprocessing.image import ImageDataGenerator\n",
        "from keras.datasets import mnist\n",
        "import time"
      ]
    },
    {
      "cell_type": "code",
      "source": [
        "(x_train,y_train),(x_test,y_test)=mnist.load_data()\n",
        "x_train=x_train.reshape(x_train.shape[0],28,28,1)\n",
        "x_test=x_test.reshape(x_test.shape[0],28,28,1)\n",
        "x_train=x_train.astype(\"float32\")\n",
        "x_test=x_test.astype(\"float32\")\n",
        "x_train/=255\n",
        "x_test/=255\n",
        "y_train=to_categorical(y_train)\n",
        "y_test=to_categorical(y_test)"
      ],
      "metadata": {
        "id": "Q6ZDh5KPrXsW"
      },
      "execution_count": 4,
      "outputs": []
    },
    {
      "cell_type": "code",
      "source": [
        "model=Sequential()\n",
        "model.add(Conv2D(32,(3,3), activation=\"relu\", input_shape=(28,28,1)))\n",
        "\n",
        "model.add(Conv2D(64,(3,3)))\n",
        "model.add(Activation(\"relu\"))\n",
        "model.add(MaxPooling2D(pool_size=(2,2)))\n",
        "\n",
        "model.add(Conv2D(128,(3,3), activation=\"relu\"))\n",
        "\n",
        "model.add(Conv2D(64,(3,3), activation=\"relu\"))\n",
        "model.add(Flatten())\n",
        "\n",
        "model.add(Dense(256, activation=\"relu\"))\n",
        "model.add(Dropout(0.25))\n",
        "\n",
        "model.add(Dense(128, activation=\"relu\"))\n",
        "model.add(Dropout(0.3))\n",
        "\n",
        "model.add(Dense(10, activation=\"softmax\"))\n",
        "\n",
        "optimizer=RMSprop(learning_rate=0.001)\n",
        "model.compile(optimizer=optimizer,loss=\"categorical_crossentropy\",metrics=[\"accuracy\"])\n",
        "\n",
        "epochs = 10"
      ],
      "metadata": {
        "id": "J1a6TUb9rh6A"
      },
      "execution_count": 5,
      "outputs": []
    },
    {
      "cell_type": "code",
      "source": [
        "batch_list = [32,64,128,256,512,1024]\n",
        "batch_time = []\n",
        "batch_accuracy = []\n",
        "for each in batch_list:\n",
        "\n",
        "  start = time.time()\n",
        "  end = time.time()\n",
        "  history = model.fit(x_train,y_train,batch_size=each,epochs=epochs,verbose=1,validation_data=(x_test,y_test))\n",
        "  end = time.time()\n",
        "  batch_time.append(end-start)\n",
        "\n",
        "  score= model.evaluate(x_test,y_test)\n",
        "  batch_accuracy.append(score[1])"
      ],
      "metadata": {
        "colab": {
          "base_uri": "https://localhost:8080/"
        },
        "id": "l4VqDGsZrjSq",
        "outputId": "6464168e-f774-4dea-9631-db670e86dc5e"
      },
      "execution_count": 6,
      "outputs": [
        {
          "output_type": "stream",
          "name": "stdout",
          "text": [
            "Epoch 1/10\n",
            "1875/1875 [==============================] - 20s 6ms/step - loss: 0.1392 - accuracy: 0.9592 - val_loss: 0.0533 - val_accuracy: 0.9845\n",
            "Epoch 2/10\n",
            "1875/1875 [==============================] - 10s 5ms/step - loss: 0.0595 - accuracy: 0.9846 - val_loss: 0.0316 - val_accuracy: 0.9893\n",
            "Epoch 3/10\n",
            "1875/1875 [==============================] - 11s 6ms/step - loss: 0.0542 - accuracy: 0.9868 - val_loss: 0.0583 - val_accuracy: 0.9874\n",
            "Epoch 4/10\n",
            "1875/1875 [==============================] - 11s 6ms/step - loss: 0.0560 - accuracy: 0.9872 - val_loss: 0.0384 - val_accuracy: 0.9913\n",
            "Epoch 5/10\n",
            "1875/1875 [==============================] - 10s 5ms/step - loss: 0.0610 - accuracy: 0.9874 - val_loss: 0.0840 - val_accuracy: 0.9865\n",
            "Epoch 6/10\n",
            "1875/1875 [==============================] - 11s 6ms/step - loss: 0.0624 - accuracy: 0.9871 - val_loss: 0.0696 - val_accuracy: 0.9877\n",
            "Epoch 7/10\n",
            "1875/1875 [==============================] - 11s 6ms/step - loss: 0.0719 - accuracy: 0.9857 - val_loss: 0.0664 - val_accuracy: 0.9831\n",
            "Epoch 8/10\n",
            "1875/1875 [==============================] - 10s 5ms/step - loss: 0.0775 - accuracy: 0.9859 - val_loss: 0.0555 - val_accuracy: 0.9847\n",
            "Epoch 9/10\n",
            "1875/1875 [==============================] - 11s 6ms/step - loss: 0.0819 - accuracy: 0.9845 - val_loss: 0.0505 - val_accuracy: 0.9880\n",
            "Epoch 10/10\n",
            "1875/1875 [==============================] - 11s 6ms/step - loss: 0.0850 - accuracy: 0.9853 - val_loss: 0.0663 - val_accuracy: 0.9863\n",
            "313/313 [==============================] - 1s 3ms/step - loss: 0.0663 - accuracy: 0.9863\n",
            "Epoch 1/10\n",
            "938/938 [==============================] - 8s 8ms/step - loss: 0.0629 - accuracy: 0.9872 - val_loss: 0.0716 - val_accuracy: 0.9869\n",
            "Epoch 2/10\n",
            "938/938 [==============================] - 7s 8ms/step - loss: 0.0576 - accuracy: 0.9884 - val_loss: 0.1117 - val_accuracy: 0.9874\n",
            "Epoch 3/10\n",
            "938/938 [==============================] - 7s 8ms/step - loss: 0.0614 - accuracy: 0.9884 - val_loss: 0.0613 - val_accuracy: 0.9874\n",
            "Epoch 4/10\n",
            "938/938 [==============================] - 7s 8ms/step - loss: 0.0584 - accuracy: 0.9883 - val_loss: 0.0757 - val_accuracy: 0.9890\n",
            "Epoch 5/10\n",
            "938/938 [==============================] - 7s 8ms/step - loss: 0.0622 - accuracy: 0.9883 - val_loss: 0.0781 - val_accuracy: 0.9896\n",
            "Epoch 6/10\n",
            "938/938 [==============================] - 7s 8ms/step - loss: 0.0570 - accuracy: 0.9887 - val_loss: 0.0450 - val_accuracy: 0.9874\n",
            "Epoch 7/10\n",
            "938/938 [==============================] - 7s 8ms/step - loss: 0.0888 - accuracy: 0.9878 - val_loss: 0.0561 - val_accuracy: 0.9901\n",
            "Epoch 8/10\n",
            "938/938 [==============================] - 7s 8ms/step - loss: 0.0627 - accuracy: 0.9880 - val_loss: 0.0644 - val_accuracy: 0.9886\n",
            "Epoch 9/10\n",
            "938/938 [==============================] - 7s 8ms/step - loss: 0.0626 - accuracy: 0.9886 - val_loss: 0.1090 - val_accuracy: 0.9892\n",
            "Epoch 10/10\n",
            "938/938 [==============================] - 7s 8ms/step - loss: 0.0606 - accuracy: 0.9891 - val_loss: 0.1235 - val_accuracy: 0.9897\n",
            "313/313 [==============================] - 1s 3ms/step - loss: 0.1235 - accuracy: 0.9897\n",
            "Epoch 1/10\n",
            "469/469 [==============================] - 6s 12ms/step - loss: 0.0434 - accuracy: 0.9912 - val_loss: 0.0770 - val_accuracy: 0.9806\n",
            "Epoch 2/10\n",
            "469/469 [==============================] - 5s 11ms/step - loss: 0.0454 - accuracy: 0.9907 - val_loss: 0.0833 - val_accuracy: 0.9873\n",
            "Epoch 3/10\n",
            "469/469 [==============================] - 6s 12ms/step - loss: 0.0459 - accuracy: 0.9919 - val_loss: 0.0715 - val_accuracy: 0.9920\n",
            "Epoch 4/10\n",
            "469/469 [==============================] - 6s 12ms/step - loss: 0.0412 - accuracy: 0.9919 - val_loss: 0.0837 - val_accuracy: 0.9891\n",
            "Epoch 5/10\n",
            "469/469 [==============================] - 6s 12ms/step - loss: 0.0462 - accuracy: 0.9923 - val_loss: 0.0769 - val_accuracy: 0.9909\n",
            "Epoch 6/10\n",
            "469/469 [==============================] - 6s 12ms/step - loss: 0.0411 - accuracy: 0.9922 - val_loss: 0.0985 - val_accuracy: 0.9903\n",
            "Epoch 7/10\n",
            "469/469 [==============================] - 6s 12ms/step - loss: 0.0421 - accuracy: 0.9921 - val_loss: 0.0638 - val_accuracy: 0.9822\n",
            "Epoch 8/10\n",
            "469/469 [==============================] - 6s 12ms/step - loss: 0.0416 - accuracy: 0.9921 - val_loss: 0.0398 - val_accuracy: 0.9915\n",
            "Epoch 9/10\n",
            "469/469 [==============================] - 5s 11ms/step - loss: 0.0438 - accuracy: 0.9926 - val_loss: 0.0447 - val_accuracy: 0.9908\n",
            "Epoch 10/10\n",
            "469/469 [==============================] - 6s 12ms/step - loss: 0.0385 - accuracy: 0.9926 - val_loss: 0.0651 - val_accuracy: 0.9863\n",
            "313/313 [==============================] - 1s 3ms/step - loss: 0.0651 - accuracy: 0.9863\n",
            "Epoch 1/10\n",
            "235/235 [==============================] - 5s 19ms/step - loss: 0.0279 - accuracy: 0.9940 - val_loss: 0.0509 - val_accuracy: 0.9893\n",
            "Epoch 2/10\n",
            "235/235 [==============================] - 4s 19ms/step - loss: 0.0302 - accuracy: 0.9940 - val_loss: 0.2049 - val_accuracy: 0.9895\n",
            "Epoch 3/10\n",
            "235/235 [==============================] - 4s 19ms/step - loss: 0.0319 - accuracy: 0.9941 - val_loss: 0.0672 - val_accuracy: 0.9916\n",
            "Epoch 4/10\n",
            "235/235 [==============================] - 4s 19ms/step - loss: 0.0260 - accuracy: 0.9947 - val_loss: 0.0462 - val_accuracy: 0.9908\n",
            "Epoch 5/10\n",
            "235/235 [==============================] - 4s 19ms/step - loss: 0.0277 - accuracy: 0.9945 - val_loss: 0.0505 - val_accuracy: 0.9888\n",
            "Epoch 6/10\n",
            "235/235 [==============================] - 4s 19ms/step - loss: 0.0210 - accuracy: 0.9954 - val_loss: 0.0848 - val_accuracy: 0.9927\n",
            "Epoch 7/10\n",
            "235/235 [==============================] - 5s 19ms/step - loss: 0.0309 - accuracy: 0.9945 - val_loss: 0.0570 - val_accuracy: 0.9918\n",
            "Epoch 8/10\n",
            "235/235 [==============================] - 4s 19ms/step - loss: 0.0267 - accuracy: 0.9945 - val_loss: 0.0943 - val_accuracy: 0.9895\n",
            "Epoch 9/10\n",
            "235/235 [==============================] - 4s 19ms/step - loss: 0.0249 - accuracy: 0.9955 - val_loss: 0.1108 - val_accuracy: 0.9901\n",
            "Epoch 10/10\n",
            "235/235 [==============================] - 4s 19ms/step - loss: 0.0257 - accuracy: 0.9951 - val_loss: 0.0580 - val_accuracy: 0.9879\n",
            "313/313 [==============================] - 1s 4ms/step - loss: 0.0580 - accuracy: 0.9879\n",
            "Epoch 1/10\n",
            "118/118 [==============================] - 5s 34ms/step - loss: 0.0162 - accuracy: 0.9965 - val_loss: 0.0727 - val_accuracy: 0.9910\n",
            "Epoch 2/10\n",
            "118/118 [==============================] - 4s 33ms/step - loss: 0.0182 - accuracy: 0.9965 - val_loss: 0.0493 - val_accuracy: 0.9913\n",
            "Epoch 3/10\n",
            "118/118 [==============================] - 4s 33ms/step - loss: 0.0149 - accuracy: 0.9966 - val_loss: 0.0597 - val_accuracy: 0.9926\n",
            "Epoch 4/10\n",
            "118/118 [==============================] - 4s 34ms/step - loss: 0.0138 - accuracy: 0.9969 - val_loss: 0.0440 - val_accuracy: 0.9898\n",
            "Epoch 5/10\n",
            "118/118 [==============================] - 4s 34ms/step - loss: 0.0149 - accuracy: 0.9968 - val_loss: 0.0634 - val_accuracy: 0.9923\n",
            "Epoch 6/10\n",
            "118/118 [==============================] - 4s 33ms/step - loss: 0.0216 - accuracy: 0.9972 - val_loss: 0.0456 - val_accuracy: 0.9921\n",
            "Epoch 7/10\n",
            "118/118 [==============================] - 4s 34ms/step - loss: 0.0143 - accuracy: 0.9968 - val_loss: 0.0639 - val_accuracy: 0.9898\n",
            "Epoch 8/10\n",
            "118/118 [==============================] - 4s 34ms/step - loss: 0.0131 - accuracy: 0.9970 - val_loss: 0.4348 - val_accuracy: 0.9895\n",
            "Epoch 9/10\n",
            "118/118 [==============================] - 4s 34ms/step - loss: 0.0180 - accuracy: 0.9966 - val_loss: 0.0625 - val_accuracy: 0.9925\n",
            "Epoch 10/10\n",
            "118/118 [==============================] - 4s 34ms/step - loss: 0.0142 - accuracy: 0.9968 - val_loss: 0.0630 - val_accuracy: 0.9914\n",
            "313/313 [==============================] - 1s 3ms/step - loss: 0.0630 - accuracy: 0.9914\n",
            "Epoch 1/10\n",
            "59/59 [==============================] - 6s 85ms/step - loss: 0.0087 - accuracy: 0.9978 - val_loss: 0.1077 - val_accuracy: 0.9916\n",
            "Epoch 2/10\n",
            "59/59 [==============================] - 4s 64ms/step - loss: 0.0088 - accuracy: 0.9984 - val_loss: 0.0710 - val_accuracy: 0.9927\n",
            "Epoch 3/10\n",
            "59/59 [==============================] - 4s 64ms/step - loss: 0.0094 - accuracy: 0.9975 - val_loss: 0.0636 - val_accuracy: 0.9926\n",
            "Epoch 4/10\n",
            "59/59 [==============================] - 4s 66ms/step - loss: 0.0071 - accuracy: 0.9981 - val_loss: 0.0589 - val_accuracy: 0.9905\n",
            "Epoch 5/10\n",
            "59/59 [==============================] - 4s 65ms/step - loss: 0.0082 - accuracy: 0.9982 - val_loss: 0.0650 - val_accuracy: 0.9930\n",
            "Epoch 6/10\n",
            "59/59 [==============================] - 4s 64ms/step - loss: 0.0071 - accuracy: 0.9986 - val_loss: 0.0962 - val_accuracy: 0.9930\n",
            "Epoch 7/10\n",
            "59/59 [==============================] - 4s 64ms/step - loss: 0.0081 - accuracy: 0.9983 - val_loss: 0.0914 - val_accuracy: 0.9928\n",
            "Epoch 8/10\n",
            "59/59 [==============================] - 4s 64ms/step - loss: 0.0071 - accuracy: 0.9985 - val_loss: 0.0624 - val_accuracy: 0.9904\n",
            "Epoch 9/10\n",
            "59/59 [==============================] - 4s 65ms/step - loss: 0.0059 - accuracy: 0.9985 - val_loss: 0.0685 - val_accuracy: 0.9904\n",
            "Epoch 10/10\n",
            "59/59 [==============================] - 4s 65ms/step - loss: 0.0079 - accuracy: 0.9983 - val_loss: 0.0552 - val_accuracy: 0.9936\n",
            "313/313 [==============================] - 1s 3ms/step - loss: 0.0552 - accuracy: 0.9936\n"
          ]
        }
      ]
    },
    {
      "cell_type": "code",
      "source": [
        "batch_time"
      ],
      "metadata": {
        "colab": {
          "base_uri": "https://localhost:8080/"
        },
        "id": "SQ7F3wpPw6sN",
        "outputId": "67897de2-f369-4013-88f0-6ea8d495ce9f"
      },
      "execution_count": 7,
      "outputs": [
        {
          "output_type": "execute_result",
          "data": {
            "text/plain": [
              "[115.61755394935608,\n",
              " 72.81848478317261,\n",
              " 82.11800384521484,\n",
              " 82.13711667060852,\n",
              " 40.852280139923096,\n",
              " 40.49720048904419]"
            ]
          },
          "metadata": {},
          "execution_count": 7
        }
      ]
    },
    {
      "cell_type": "code",
      "source": [
        "batch_accuracy"
      ],
      "metadata": {
        "colab": {
          "base_uri": "https://localhost:8080/"
        },
        "id": "o-EKGBrjw8U7",
        "outputId": "8ef2994d-0c7f-49d7-cd94-e9cc5c78d882"
      },
      "execution_count": 8,
      "outputs": [
        {
          "output_type": "execute_result",
          "data": {
            "text/plain": [
              "[0.986299991607666,\n",
              " 0.9897000193595886,\n",
              " 0.986299991607666,\n",
              " 0.9879000186920166,\n",
              " 0.9914000034332275,\n",
              " 0.9936000108718872]"
            ]
          },
          "metadata": {},
          "execution_count": 8
        }
      ]
    },
    {
      "cell_type": "code",
      "source": [
        "import matplotlib.pyplot as plt\n",
        "plt.plot(batch_time)"
      ],
      "metadata": {
        "colab": {
          "base_uri": "https://localhost:8080/",
          "height": 283
        },
        "id": "3UXmEOoSxC1W",
        "outputId": "b9d76fe8-dcb4-49b1-fe7f-58b962a22bc0"
      },
      "execution_count": 15,
      "outputs": [
        {
          "output_type": "execute_result",
          "data": {
            "text/plain": [
              "[<matplotlib.lines.Line2D at 0x7f11da4d7810>]"
            ]
          },
          "metadata": {},
          "execution_count": 15
        },
        {
          "output_type": "display_data",
          "data": {
            "text/plain": [
              "<Figure size 432x288 with 1 Axes>"
            ],
            "image/png": "[encoded data removed]"
          },
          "metadata": {
            "needs_background": "light"
          }
        }
      ]
    },
    {
      "cell_type": "code",
      "source": [
        "plt.plot(batch_accuracy)"
      ],
      "metadata": {
        "colab": {
          "base_uri": "https://localhost:8080/",
          "height": 283
        },
        "id": "m8Jutx_6xGFq",
        "outputId": "70782dfe-7774-4de7-e8e7-e75009b16027"
      },
      "execution_count": 17,
      "outputs": [
        {
          "output_type": "execute_result",
          "data": {
            "text/plain": [
              "[<matplotlib.lines.Line2D at 0x7f11da0fd6d0>]"
            ]
          },
          "metadata": {},
          "execution_count": 17
        },
        {
          "output_type": "display_data",
          "data": {
            "text/plain": [
              "<Figure size 432x288 with 1 Axes>"
            ],
            "image/png": "[encoded data removed]"
          },
          "metadata": {
            "needs_background": "light"
          }
        }
      ]
    }
  ]
}