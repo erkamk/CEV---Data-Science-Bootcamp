{
  "nbformat": 4,
  "nbformat_minor": 0,
  "metadata": {
    "colab": {
      "provenance": []
    },
    "kernelspec": {
      "name": "python3",
      "display_name": "Python 3"
    },
    "language_info": {
      "name": "python"
    }
  },
  "cells": [
    {
      "cell_type": "markdown",
      "source": [
        "1> Gradient Descent algortimasını kullanarak x^2+2*x+1 fonksiyonu için global minumum noktasını bulunuz.\n",
        "2> Learning rate parametresini 0.001, 0.01,0.0001,0.1 olarak deneyerek sonuçlarını karşılaştırınız.\n",
        "Not: GD algoritmasını kendiniz yazınız.\n",
        "Hint: Fonksiyonun sonuçta bir yerde durması gerekiyor. Bunu kullanmayı unutmayız. Örnek olarak iki değer arasındaki fark şundan küçükse gibi.\n"
      ],
      "metadata": {
        "id": "MZJdwBd--FFv"
      }
    },
    {
      "cell_type": "code",
      "source": [
        "def func(x):\n",
        "  return x*x+2*x+1\n",
        "func(-1)"
      ],
      "metadata": {
        "colab": {
          "base_uri": "https://localhost:8080/"
        },
        "id": "iE8SVupT-Gtp",
        "outputId": "b54f9732-b5a3-4cdf-95d9-d048e4af21bc"
      },
      "execution_count": 36,
      "outputs": [
        {
          "output_type": "execute_result",
          "data": {
            "text/plain": [
              "0"
            ]
          },
          "metadata": {},
          "execution_count": 36
        }
      ]
    },
    {
      "cell_type": "code",
      "source": [
        "def gradient_descent(start, lr):\n",
        "    x = start\n",
        "    while True:\n",
        "        diff = -lr * func(x)\n",
        "        x += diff\n",
        "        if x<diff:\n",
        "          return x"
      ],
      "metadata": {
        "id": "RY1PlqAX-5iM"
      },
      "execution_count": 24,
      "outputs": []
    },
    {
      "cell_type": "code",
      "source": [
        "gradient_descent(10.0, 0.001)"
      ],
      "metadata": {
        "colab": {
          "base_uri": "https://localhost:8080/"
        },
        "id": "weGkKdml_bjD",
        "outputId": "c259c122-b488-4dac-e780-05c2a1fd5409"
      },
      "execution_count": 26,
      "outputs": [
        {
          "output_type": "execute_result",
          "data": {
            "text/plain": [
              "-0.0013116172048961805"
            ]
          },
          "metadata": {},
          "execution_count": 26
        }
      ]
    },
    {
      "cell_type": "code",
      "source": [
        "gradient_descent(10.0, 0.01)"
      ],
      "metadata": {
        "colab": {
          "base_uri": "https://localhost:8080/"
        },
        "id": "Fj4efnmm_tCz",
        "outputId": "bcbd4991-8287-4a8c-fac4-423ed891070d"
      },
      "execution_count": 27,
      "outputs": [
        {
          "output_type": "execute_result",
          "data": {
            "text/plain": [
              "-0.015349837015356754"
            ]
          },
          "metadata": {},
          "execution_count": 27
        }
      ]
    },
    {
      "cell_type": "code",
      "source": [
        "gradient_descent(10.0, 0.0001)"
      ],
      "metadata": {
        "colab": {
          "base_uri": "https://localhost:8080/"
        },
        "id": "0IIMrkUGBFbZ",
        "outputId": "ef6ac200-8886-4005-ce69-1294cd70c967"
      },
      "execution_count": 28,
      "outputs": [
        {
          "output_type": "execute_result",
          "data": {
            "text/plain": [
              "-0.00014892318917048502"
            ]
          },
          "metadata": {},
          "execution_count": 28
        }
      ]
    },
    {
      "cell_type": "code",
      "source": [
        "gradient_descent(10.0, 0.1)"
      ],
      "metadata": {
        "colab": {
          "base_uri": "https://localhost:8080/"
        },
        "id": "ZaAy2vzSBLrg",
        "outputId": "ff8b3ebd-8d86-44a8-fbad-dceb6b5bd5dc"
      },
      "execution_count": 29,
      "outputs": [
        {
          "output_type": "execute_result",
          "data": {
            "text/plain": [
              "-2.221000000000002"
            ]
          },
          "metadata": {},
          "execution_count": 29
        }
      ]
    }
  ]
}